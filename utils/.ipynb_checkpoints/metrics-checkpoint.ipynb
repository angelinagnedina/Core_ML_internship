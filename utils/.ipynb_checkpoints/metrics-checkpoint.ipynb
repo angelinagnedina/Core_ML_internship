{
 "cells": [
  {
   "cell_type": "code",
   "execution_count": 1,
   "id": "9cef1d3e",
   "metadata": {},
   "outputs": [],
   "source": [
    "import numpy as np"
   ]
  },
  {
   "cell_type": "code",
   "execution_count": 28,
   "id": "e709987d",
   "metadata": {},
   "outputs": [],
   "source": [
    "def precision(prediction, truth, k: int) -> float:\n",
    "    return np.sum(np.multiply(prediction, truth), axis = 0)/k"
   ]
  },
  {
   "cell_type": "code",
   "execution_count": 59,
   "id": "34383ee1",
   "metadata": {},
   "outputs": [],
   "source": [
    "def apk(prediction, truth, K: int, threshold: float) -> float:\n",
    "    prediction = list(map(lambda x: int(x > threshold), prediction))\n",
    "    new_arr = [[prediction[i], truth[i]] \n",
    "                        for i in range(len(truth))]\n",
    "    new_arr.sort(reverse=True)\n",
    "    new_arr = np.array(new_arr)\n",
    "    predictions, truth = new_arr[:,0][:K], new_arr[:,1][:K]\n",
    "    res = 0.0\n",
    "    for k in range(1, K + 1):\n",
    "        res += truth[k - 1]*precision(predictions[:k], truth[:k], k)\n",
    "    return res / K"
   ]
  },
  {
   "cell_type": "code",
   "execution_count": 31,
   "id": "528ba0d0",
   "metadata": {},
   "outputs": [],
   "source": [
    "def mapk(data, K: int, threshold: float) -> float:\n",
    "    return np.mean(list(map(lambda user: apk(user[0], user[1], K, threshold), data)))   "
   ]
  },
  {
   "cell_type": "code",
   "execution_count": 70,
   "id": "2e32c6d0",
   "metadata": {},
   "outputs": [],
   "source": [
    "def ndcgk(prediction, truth, K: int) -> float:\n",
    "    new_arr = [[prediction[i], truth[i]] \n",
    "                        for i in range(len(truth))]\n",
    "    new_arr.sort(reverse=True)\n",
    "    new_arr = np.array(new_arr)\n",
    "    predictions, truth = new_arr[:,0][:K], new_arr[:,1][:K]\n",
    "    res = 0.0\n",
    "    denom = 0.0\n",
    "    for k in range(1, K + 1):\n",
    "        res += (2**(truth[k - 1]) - 1)/np.log2(k + 1)\n",
    "        denom += 1/np.log2(k + 1)\n",
    "    return res/denom"
   ]
  },
  {
   "cell_type": "code",
   "execution_count": 68,
   "id": "960baa14",
   "metadata": {},
   "outputs": [],
   "source": [
    "def mean_ndcgk(data, K: int) -> float:\n",
    "    return np.mean(list(map(lambda user: ndcgk(user[0], user[1], K), data))) "
   ]
  }
 ],
 "metadata": {
  "kernelspec": {
   "display_name": "Python 3 (ipykernel)",
   "language": "python",
   "name": "python3"
  },
  "language_info": {
   "codemirror_mode": {
    "name": "ipython",
    "version": 3
   },
   "file_extension": ".py",
   "mimetype": "text/x-python",
   "name": "python",
   "nbconvert_exporter": "python",
   "pygments_lexer": "ipython3",
   "version": "3.9.7"
  }
 },
 "nbformat": 4,
 "nbformat_minor": 5
}
